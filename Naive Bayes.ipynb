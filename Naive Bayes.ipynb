{
 "cells": [
  {
   "cell_type": "code",
   "execution_count": 148,
   "metadata": {},
   "outputs": [
    {
     "name": "stdout",
     "output_type": "stream",
     "text": [
      "(5000, 2)\n"
     ]
    }
   ],
   "source": [
    "import numpy as np\n",
    "import pandas as pd\n",
    "import math as math\n",
    "%matplotlib inline\n",
    "import matplotlib.pyplot as plt\n",
    "\n",
    "data = pd.read_csv('data2.csv', header=None).as_matrix()\n",
    "print(data.shape)"
   ]
  },
  {
   "cell_type": "code",
   "execution_count": 149,
   "metadata": {},
   "outputs": [],
   "source": [
    "# calculate odds ratio for each feature given C = 0, then odds for each feature given C = 1\n",
    "# split data into X and Y\n",
    "def split_data(data): \n",
    "    X = data[:, :-1]\n",
    "    y = data[:, -1]\n",
    "    return X, y\n",
    "\n",
    "X, y = split_data(data)\n"
   ]
  },
  {
   "cell_type": "code",
   "execution_count": 150,
   "metadata": {},
   "outputs": [],
   "source": [
    "# calculate odds ratio for each feature given C = 0\n",
    "# create vector of T/F for all features whose C = 0\n",
    "class_zero_data = X[y == 0, :]\n",
    "class_one_data = X[y == 1, :]\n",
    "\n",
    "count_in_class_zero = class_zero_data.shape[0]\n",
    "count_in_class_one = class_one_data.shape[0]\n",
    "\n",
    "feature_presence_probs_in_class_zero = (np.sum(class_zero_data, axis=0) + 1) / (count_in_class_zero + 1)\n",
    "feature_absence_probs_in_class_zero = (count_in_class_zero - np.sum(class_zero_data, axis=0) + 1) / (count_in_class_zero + 1)\n",
    "feature_presence_probs_in_class_one = (np.sum(class_one_data, axis=0) + 1) / (count_in_class_one + 1)\n",
    "feature_absence_probs_in_class_one = (count_in_class_one - np.sum(class_one_data, axis=0) + 1) / (count_in_class_one + 1)"
   ]
  },
  {
   "cell_type": "code",
   "execution_count": 151,
   "metadata": {},
   "outputs": [
    {
     "name": "stdout",
     "output_type": "stream",
     "text": [
      "[[ 0.89350901 -1.17815718]]\n",
      "0.00560001463474\n"
     ]
    }
   ],
   "source": [
    "log_odds = np.zeros((X.shape[1], 2))\n",
    "log_odds[:, 0] = np.log(feature_absence_probs_in_class_one / feature_absence_probs_in_class_zero)\n",
    "log_odds[:, 1] = np.log(feature_presence_probs_in_class_one / feature_presence_probs_in_class_zero)\n",
    "\n",
    "p_c0 = count_in_class_zero / X.shape[0]\n",
    "p_c1 = count_in_class_one / X.shape[0]\n",
    "base_log_odds = np.log((p_c1 + 1) / (p_c0 + 1))\n",
    "print(log_odds)\n",
    "print(base_log_odds)\n",
    "\n",
    "def predict(log_odds, base_log_odds, x):\n",
    "    z = np.dot(x, log_odds[:, 1]) + np.dot(1 - x, log_odds[:, 0]) + base_log_odds\n",
    "    return 1 / (1 + np.exp(-z))"
   ]
  },
  {
   "cell_type": "code",
   "execution_count": 152,
   "metadata": {},
   "outputs": [
    {
     "name": "stdout",
     "output_type": "stream",
     "text": [
      "0.7346\n"
     ]
    }
   ],
   "source": [
    "def calc_accuracy(X, y, log_odds, base_odds):\n",
    "    predictions = np.zeros(X.shape[0])\n",
    "    for i in range(X.shape[0]):\n",
    "        prob_c_one = predict(log_odds, base_odds, X[i])\n",
    "        if prob_c_one > 0.5:\n",
    "            predictions[i] = 1\n",
    "        else:\n",
    "            predictions[i] = 0\n",
    "    return np.sum(y == predictions) / y.shape[0]\n",
    "\n",
    "print(calc_accuracy(X, y, log_odds, base_log_odds))\n"
   ]
  },
  {
   "cell_type": "code",
   "execution_count": null,
   "metadata": {
    "collapsed": true
   },
   "outputs": [],
   "source": []
  }
 ],
 "metadata": {
  "kernelspec": {
   "display_name": "Python 3",
   "language": "python",
   "name": "python3"
  },
  "language_info": {
   "codemirror_mode": {
    "name": "ipython",
    "version": 3
   },
   "file_extension": ".py",
   "mimetype": "text/x-python",
   "name": "python",
   "nbconvert_exporter": "python",
   "pygments_lexer": "ipython3",
   "version": "3.6.1"
  }
 },
 "nbformat": 4,
 "nbformat_minor": 2
}
